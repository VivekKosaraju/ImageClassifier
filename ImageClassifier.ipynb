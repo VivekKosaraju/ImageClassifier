{
  "nbformat": 4,
  "nbformat_minor": 0,
  "metadata": {
    "colab": {
      "name": "cnncat.ipynb",
      "provenance": [],
      "collapsed_sections": []
    },
    "kernelspec": {
      "name": "python3",
      "display_name": "Python 3"
    },
    "accelerator": "GPU"
  },
  "cells": [
    {
      "cell_type": "code",
      "metadata": {
        "id": "a_g4y4klAWQT",
        "colab_type": "code",
        "colab": {
          "base_uri": "https://localhost:8080/",
          "height": 34
        },
        "outputId": "cb097b5d-0b5b-4d75-f10f-939dd45b15eb"
      },
      "source": [
        "import tensorflow as tf\n",
        "tf.test.gpu_device_name()"
      ],
      "execution_count": 12,
      "outputs": [
        {
          "output_type": "execute_result",
          "data": {
            "text/plain": [
              "'/device:GPU:0'"
            ]
          },
          "metadata": {
            "tags": []
          },
          "execution_count": 12
        }
      ]
    },
    {
      "cell_type": "code",
      "metadata": {
        "id": "iR0peBknUDUA",
        "colab_type": "code",
        "colab": {}
      },
      "source": [
        "from keras.models import Sequential\n",
        "from keras.layers import Convolution2D\n",
        "from keras.layers import MaxPooling2D\n",
        "from keras.layers import Flatten\n",
        "from keras.layers import Dense"
      ],
      "execution_count": 0,
      "outputs": []
    },
    {
      "cell_type": "markdown",
      "metadata": {
        "id": "_Hkw6jmdGQwp",
        "colab_type": "text"
      },
      "source": [
        "**#Initializing the CNN**"
      ]
    },
    {
      "cell_type": "code",
      "metadata": {
        "id": "Ecau7r_5U4MK",
        "colab_type": "code",
        "colab": {}
      },
      "source": [
        "classifier=Sequential()\n"
      ],
      "execution_count": 0,
      "outputs": []
    },
    {
      "cell_type": "markdown",
      "metadata": {
        "id": "f7QG0OLOGiY1",
        "colab_type": "text"
      },
      "source": [
        "Step 1: Convolution"
      ]
    },
    {
      "cell_type": "code",
      "metadata": {
        "id": "cidxdMdQGqMC",
        "colab_type": "code",
        "colab": {}
      },
      "source": [
        "classifier.add(Convolution2D(32,[3,3],input_shape=(64,64,3),activation='relu'))"
      ],
      "execution_count": 0,
      "outputs": []
    },
    {
      "cell_type": "markdown",
      "metadata": {
        "id": "iAHb2sWrGw6T",
        "colab_type": "text"
      },
      "source": [
        "Step 2: Pooling"
      ]
    },
    {
      "cell_type": "code",
      "metadata": {
        "id": "CaiTmbfPXI9k",
        "colab_type": "code",
        "colab": {}
      },
      "source": [
        "classifier.add(MaxPooling2D(pool_size=(2,2)))"
      ],
      "execution_count": 0,
      "outputs": []
    },
    {
      "cell_type": "markdown",
      "metadata": {
        "id": "lg8KHD9zHF5l",
        "colab_type": "text"
      },
      "source": [
        "Adding second convolution layer"
      ]
    },
    {
      "cell_type": "code",
      "metadata": {
        "id": "UlzxFNBsG8Vq",
        "colab_type": "code",
        "colab": {}
      },
      "source": [
        "classifier.add(Convolution2D(32,[3,3],input_shape=(64,64,3),activation='relu'))\n",
        "classifier.add(MaxPooling2D(pool_size=(2,2)))"
      ],
      "execution_count": 0,
      "outputs": []
    },
    {
      "cell_type": "markdown",
      "metadata": {
        "id": "a9h67vrKHT6i",
        "colab_type": "text"
      },
      "source": [
        "Step 3: Flattening"
      ]
    },
    {
      "cell_type": "code",
      "metadata": {
        "id": "PqojXhzpXr2L",
        "colab_type": "code",
        "colab": {}
      },
      "source": [
        "classifier.add(Flatten())"
      ],
      "execution_count": 0,
      "outputs": []
    },
    {
      "cell_type": "markdown",
      "metadata": {
        "id": "M4DxNMIcHa6q",
        "colab_type": "text"
      },
      "source": [
        "Step 4: Full connection"
      ]
    },
    {
      "cell_type": "code",
      "metadata": {
        "id": "iEN0fXTCX8GS",
        "colab_type": "code",
        "colab": {}
      },
      "source": [
        "classifier.add(Dense(128,activation='relu'))"
      ],
      "execution_count": 0,
      "outputs": []
    },
    {
      "cell_type": "code",
      "metadata": {
        "id": "ctKBCpQCYgbB",
        "colab_type": "code",
        "colab": {}
      },
      "source": [
        "classifier.add(Dense(1,activation='sigmoid'))"
      ],
      "execution_count": 0,
      "outputs": []
    },
    {
      "cell_type": "markdown",
      "metadata": {
        "id": "gvI-bMt3Hlre",
        "colab_type": "text"
      },
      "source": [
        "Compiling the CNN"
      ]
    },
    {
      "cell_type": "code",
      "metadata": {
        "id": "y9LagLnlYr3w",
        "colab_type": "code",
        "colab": {}
      },
      "source": [
        "classifier.compile(optimizer='adam',loss='binary_crossentropy',metrics=['accuracy'])"
      ],
      "execution_count": 0,
      "outputs": []
    },
    {
      "cell_type": "markdown",
      "metadata": {
        "id": "iyifx-J1Hqlr",
        "colab_type": "text"
      },
      "source": [
        "Importing datasets"
      ]
    },
    {
      "cell_type": "code",
      "metadata": {
        "id": "d8BytiBc8xQq",
        "colab_type": "code",
        "colab": {
          "base_uri": "https://localhost:8080/",
          "height": 34
        },
        "outputId": "02c421f5-ce35-4e75-cea8-c516e3ac7250"
      },
      "source": [
        "import os \n",
        "os.getcwd() \n",
        "os.chdir('/content/drive/My Drive/dataset')\n",
        "!ls"
      ],
      "execution_count": 22,
      "outputs": [
        {
          "output_type": "stream",
          "text": [
            "test_image  test_set  training_set\n"
          ],
          "name": "stdout"
        }
      ]
    },
    {
      "cell_type": "markdown",
      "metadata": {
        "id": "Hr7rZ227H1Qn",
        "colab_type": "text"
      },
      "source": [
        "**Part 2**\n",
        "-Fitting the CNN to image"
      ]
    },
    {
      "cell_type": "code",
      "metadata": {
        "id": "E1ny6qFodZIJ",
        "colab_type": "code",
        "colab": {
          "base_uri": "https://localhost:8080/",
          "height": 138
        },
        "outputId": "e44aaae0-f298-4272-f6e9-6268a3de55d1"
      },
      "source": [
        "from keras.preprocessing.image import ImageDataGenerator\n",
        "train_datagen = ImageDataGenerator(\n",
        "        rescale=1./255,\n",
        "        shear_range=0.2,\n",
        "        zoom_range=0.2,\n",
        "        horizontal_flip=True)\n",
        "test_datagen = ImageDataGenerator(rescale=1./255)\n",
        "train_set = train_datagen.flow_from_directory(\n",
        "                                            'training_set',\n",
        "                                            target_size=(64,64),\n",
        "                                            batch_size=32,\n",
        "                                            class_mode='binary')\n",
        "test_set = test_datagen.flow_from_directory(\n",
        "        'test_set',\n",
        "        target_size=(64,64),\n",
        "        batch_size=32,\n",
        "        class_mode='binary')\n",
        "classifier.fit(\n",
        "        train_set,\n",
        "        steps_per_epoch=8000,\n",
        "        epochs=25,\n",
        "        validation_data=test_set,\n",
        "        validation_steps=2000)"
      ],
      "execution_count": 0,
      "outputs": [
        {
          "output_type": "stream",
          "text": [
            "Found 8000 images belonging to 2 classes.\n",
            "Found 2000 images belonging to 2 classes.\n",
            "Epoch 1/25\n",
            "  24/8000 [..............................] - ETA: 32:04:27 - loss: 0.7220 - accuracy: 0.4935"
          ],
          "name": "stdout"
        },
        {
          "output_type": "stream",
          "text": [
            "/usr/local/lib/python3.6/dist-packages/keras/utils/data_utils.py:616: UserWarning: The input 184 could not be retrieved. It could be because a worker has died.\n",
            "  UserWarning)\n"
          ],
          "name": "stderr"
        },
        {
          "output_type": "stream",
          "text": [
            "  40/8000 [..............................] - ETA: 32:58:33 - loss: 0.7103 - accuracy: 0.5023"
          ],
          "name": "stdout"
        }
      ]
    },
    {
      "cell_type": "code",
      "metadata": {
        "id": "TsLRgPD36Bov",
        "colab_type": "code",
        "colab": {}
      },
      "source": [
        ""
      ],
      "execution_count": 0,
      "outputs": []
    }
  ]
}